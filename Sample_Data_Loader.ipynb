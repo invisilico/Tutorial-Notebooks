{
  "nbformat": 4,
  "nbformat_minor": 0,
  "metadata": {
    "colab": {
      "name": "Sample-Data-Loader.ipynb",
      "provenance": [],
      "collapsed_sections": [],
      "authorship_tag": "ABX9TyNbubYx6OJSI+5xxyewk2T8",
      "include_colab_link": true
    },
    "kernelspec": {
      "name": "python3",
      "display_name": "Python 3"
    }
  },
  "cells": [
    {
      "cell_type": "markdown",
      "metadata": {
        "id": "view-in-github",
        "colab_type": "text"
      },
      "source": [
        "<a href=\"https://colab.research.google.com/github/invisilico/Tutorial-Notebooks/blob/main/Sample_Data_Loader.ipynb\" target=\"_parent\"><img src=\"https://colab.research.google.com/assets/colab-badge.svg\" alt=\"Open In Colab\"/></a>"
      ]
    },
    {
      "cell_type": "markdown",
      "metadata": {
        "id": "7gjQIoUUtNFH"
      },
      "source": [
        "# Part of the Digital-Behaviour project!\n",
        "\n",
        "\n",
        "---\n",
        "\n",
        "Made by Nishant Jana \n",
        "\n",
        "\n",
        "\n",
        "---\n",
        "\n",
        "\n",
        "Find me at:\n",
        "\n",
        "Twitter: [@In_Visilico](https://twitter.com/In_Visilico) , Github: [@invisilico](https://github.com/invisilico) , E-mail: nishantjana5@gmail.com\n",
        "\n",
        "Feel free to DM/raise an issue/E-mail for any help, feedback and suggestions!\n",
        "\n",
        "\n",
        "---\n",
        "\n",
        "\n"
      ]
    },
    {
      "cell_type": "markdown",
      "metadata": {
        "id": "y8Hex9XD7XEG"
      },
      "source": [
        "Use the following steps to copy this cell to the main notebook:\n",
        "\n",
        "Make sure you have this notebook as well as the main notebook open. Changes will not be saved so do this only when attempting the experiment.\n",
        "\n",
        "First click (do **not** run) the sample data loader cell below to highlight it such that you see options on the top right of the cell as shown below.\n",
        "\n",
        "![step1](https://user-images.githubusercontent.com/68754864/97982941-824c4c80-1dfa-11eb-914a-e9c25369758e.png)\n",
        "\n",
        "Click the [![Screenshot from 2020-11-03 17-19-18](https://user-images.githubusercontent.com/68754864/97982934-80828900-1dfa-11eb-9f7c-595cdbb53c14.png)] button such that you get a dropdown. Click on \"copy cell\" as shown below.\n",
        "\n",
        "![step2](https://user-images.githubusercontent.com/68754864/97982942-82e4e300-1dfa-11eb-86f4-acf26ce9f285.png)\n",
        "\n",
        "Once done, head onto the main notebook and click the Set up cell to highlight it like you did the sample data loader cell below.\n",
        "\n",
        "![step3](https://user-images.githubusercontent.com/68754864/97982943-837d7980-1dfa-11eb-9f1f-430cad0ca81d.png)\n",
        "\n",
        "Pres Control+V (or the paste command specific to your system). You will see the sample data loader cell appear below the set up cell as shown here:\n",
        "\n",
        "![step4](https://user-images.githubusercontent.com/68754864/97982944-84161000-1dfa-11eb-8ede-87dca97b2faf.png)\n",
        "\n",
        "Run this cell to instantly load one of my data sets. You can skip the \"Load data from your file\" step but every other cell must be run as is.\n",
        "```\n",
        "Remember! \n",
        "If you have exhausted your options and are using this cell, \n",
        "the least I expect from you is to find something you find interesting about my data, \n",
        "and tell me about it!\n",
        "\n",
        "\n",
        "Also please be nice and don't share my data around. I've trusted you not to.\n",
        "```\n",
        "\n"
      ]
    },
    {
      "cell_type": "code",
      "metadata": {
        "id": "qAkXGL3bHQL1",
        "cellView": "form"
      },
      "source": [
        "#@title sample data loader\n",
        "#@markdown Do not use unless other options have been exhausted\n",
        "!curl https://raw.githubusercontent.com/invisilico/DigitalRhythmsProject/master/Sample%20Datasets/nov3data.tar.gz --output MyActivity.tar.gz\n",
        "!tar -xvf  'MyActivity.tar.gz'\n",
        "\n",
        "os.rename(r'My Activity.html',r'actdata.txt')\n",
        "with open('actdata.txt','r') as file:\n",
        "  txt = file.readlines()\n",
        "print(\"Data loaded from file.\")\n",
        "!rm *.* #removes file, bash shell command\n",
        "print(\"File deleted from Colab, verify in files on left panel.\")"
      ],
      "execution_count": null,
      "outputs": []
    }
  ]
}
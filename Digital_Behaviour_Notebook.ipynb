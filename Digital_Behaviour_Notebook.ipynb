{
  "nbformat": 4,
  "nbformat_minor": 0,
  "metadata": {
    "colab": {
      "name": "Digital-Behaviour Notebook.ipynb",
      "provenance": [],
      "collapsed_sections": [],
      "authorship_tag": "ABX9TyO2GX26IO49U038fPysK/eH",
      "include_colab_link": true
    },
    "kernelspec": {
      "name": "python3",
      "display_name": "Python 3"
    }
  },
  "cells": [
    {
      "cell_type": "markdown",
      "metadata": {
        "id": "view-in-github",
        "colab_type": "text"
      },
      "source": [
        "<a href=\"https://colab.research.google.com/github/invisilico/Tutorial-Notebooks/blob/main/Digital_Behaviour_Notebook.ipynb\" target=\"_parent\"><img src=\"https://colab.research.google.com/assets/colab-badge.svg\" alt=\"Open In Colab\"/></a>"
      ]
    },
    {
      "cell_type": "markdown",
      "metadata": {
        "id": "7gjQIoUUtNFH"
      },
      "source": [
        "# Welcome to ***your*** Digital-Behaviour project!\n",
        "\n",
        "\n",
        "---\n",
        "\n",
        "Made by Nishant Jana with lots of inputs from Dr. May Harrington, Dr. Tany leise, Dr. Horacio de la Iglesia and Dr. Raymond Sanchez     \n",
        "\n",
        "(inspired by the e-mail timestamps project by the de la Iglesia lab @ University of Washington, Seattle!)\n",
        "\n",
        "(Visualization section heavily adapted from Dr. Leise's SRBR Chronoschool 2020 class)\n",
        "\n",
        "\n",
        "\n",
        "---\n",
        "\n",
        "\n",
        "Find me at:\n",
        "\n",
        "Twitter: [@In_Visilico](https://twitter.com/In_Visilico) , Github: [@invisilico](https://github.com/invisilico) , E-mail: nishantjana5@gmail.com\n",
        "\n",
        "Feel free to DM/raise an issue/E-mail for any help, feedback and suggestions!\n",
        "\n",
        "\n",
        "---\n",
        "\n",
        "\n"
      ]
    },
    {
      "cell_type": "markdown",
      "metadata": {
        "id": "dnAcFTCQStik"
      },
      "source": [
        "\n",
        "\n",
        "---\n",
        "\n",
        "# Helpful tips\n",
        "\n",
        "Click the [![](https://user-images.githubusercontent.com/68754864/97426576-a8c14200-1939-11eb-9197-15c7be91ab96.png)] button on the left to each cell to run them. If they have inputs, be sure to fill them first!\n",
        "\n",
        "Make sure you have the My Activity.html file from takeout.google.com ready to upload.\n",
        "\n",
        "As long as possible try going ahead linearly rather than going back and forth across sections. Some of the variable names are shared for convenience and your output may keep changing because of it!\n",
        "```\n",
        "The steps to be followed are stylized like this and,\n",
        "\n",
        "# your tasks following each step are marked with a hash!\n",
        "```\n",
        "\n",
        "\n",
        "\n",
        "---\n",
        "\n"
      ]
    },
    {
      "cell_type": "markdown",
      "metadata": {
        "id": "-2U8s_wO2w7g"
      },
      "source": [
        "\n",
        "\n",
        "---\n",
        "\n",
        "\n",
        "# Reading the Data\n",
        "\n",
        "Should you open the HTML file as text, you'll notice that all the data that makes up those panels in the browser version are actually a single (but very long) line of text. That is of no use to us in any way.\n",
        "\n",
        "What we need here, is to build a DataFrame. A Dataframe is essentially a large table with columns with all the data we need, organised by entry number very similar to excel sheets, but only as big as required. A really important thing about a (pandas) DataFrame is that it allows you to selectively query it to obtain sections of the data that meet your criteria.\n",
        "\n",
        "The DataFrame made here follows the structure below:\n",
        "\n",
        "\n",
        "```\n",
        "# dataframe structure (exemplar)\n",
        "\n",
        "   App      of24h   Day Month Year  TimeZone Weekday TimeStamp\n",
        "0  Appname  10.567  2   5     2020  GMT      1       [datetime.datetime(2020, 5, 2, 15, 35, 10)]\n",
        "1  Appname  12.263  2   5     2020  GMT      1       [datetime.datetime(2020, 5, 2, 15, 35, 10)]\n",
        "2  Appname  14.139  2   5     2020  GMT      1       [datetime.datetime(2020, 5, 2, 15, 35, 10)]\n",
        "3  Appname  15.667  2   5     2020  GMT      1       [datetime.datetime(2020, 5, 2, 15, 35, 10)]\n",
        "```\n"
      ]
    },
    {
      "cell_type": "code",
      "metadata": {
        "id": "L5NS8PrTJA1Z",
        "cellView": "form"
      },
      "source": [
        "#@title ### Set-Up!\n",
        "\n",
        "#@markdown Wait for colab to allocate system resources. Once done, click play on the next cell.\n",
        "\n",
        "from google.colab import files\n",
        "import os\n",
        "import pandas as pd\n",
        "import numpy as np\n",
        "import re\n",
        "import matplotlib.pyplot as plt\n",
        "import seaborn as sns\n",
        "from calendar import monthrange\n",
        "from calendar import isleap\n",
        "from datetime import datetime\n",
        "from dateutil.parser import parse\n",
        "import matplotlib as mpl\n",
        "import matplotlib.ticker as ticker\n"
      ],
      "execution_count": null,
      "outputs": []
    },
    {
      "cell_type": "code",
      "metadata": {
        "id": "Ymh-ZTt_JPDf",
        "cellView": "form"
      },
      "source": [
        "#@title Load the Data from your File\n",
        "\n",
        "#@markdown This cell will keep running till you select the file. Click the \"Choose Files\" tile as it appears to select file to upload from your system. The file will be deleted once data is loaded.\n",
        "#@markdown \n",
        "#@markdown Ensure the file is called *exactly* 'My Activity.html'\n",
        "file = files.upload()\n",
        "#urename the file to use as text file, read lines method. avoids beautiful soup\n",
        "os.rename(r'My Activity.html',r'actdata.txt')\n",
        "with open('actdata.txt','r') as file:\n",
        "  txt = file.readlines()\n",
        "print(\"Data loaded from file.\")\n",
        "!rm *.* #removes file, bash shell command\n",
        "print(\"File deleted from Colab, verify in files on left panel.\")"
      ],
      "execution_count": null,
      "outputs": []
    },
    {
      "cell_type": "code",
      "metadata": {
        "id": "GwOtdMOmeQkX",
        "cellView": "form"
      },
      "source": [
        "#@title Build a Dataframe\n",
        "\n",
        "#@markdown This cell makes a dataframe from your data from the file. Might take a while!\n",
        "actdat = txt[32]\n",
        "\n",
        "#find indices between which appname and timestamp exists\n",
        "preapp = [app.end(0) for app in re.finditer('<p class=\"mdl-typography--title\">', actdat)] \n",
        "postapp = [app.start(0) for app in re.finditer('<br></p></div><div class=\"content-cell mdl-cell mdl-cell--6-col mdl-typography--body-1\">', actdat)]\n",
        "posttime = [time.start(0) for time in re.finditer('</div><div class=\"content-cell mdl-cell mdl-cell--6-col mdl-typography--body-1 mdl-typography--text-right\">', actdat)]\n",
        "\n",
        "appname = []\n",
        "datetime = []\n",
        "timezone = []\n",
        "\n",
        "dd = []\n",
        "mm = []\n",
        "yy = []\n",
        "of24h = []\n",
        "weekday = []\n",
        "\n",
        "for i in range(len(posttime)):\n",
        "\n",
        "  appname += [actdat[preapp[i]:postapp[i]]]\n",
        "  \n",
        "  # some (stupid) fix that somehow works but I don't remember why\n",
        "  stamp = actdat[posttime[i]-30:posttime[i]]\n",
        "  idx = [app.end(0) for app in re.finditer('>', stamp)]\n",
        "  if len(idx) > 0:\n",
        "    stamp = stamp[idx[-1]:]\n",
        "\n",
        "  datetime += [parse(stamp[:-4])]\n",
        "  dd += [int(datetime[-1].day)]\n",
        "  mm += [int(datetime[-1].month)]\n",
        "  yy += [int(datetime[-1].year)]  \n",
        "  of24h +=   [np.round(int(datetime[-1].hour)+(int(datetime[-1].minute)/60), decimals = 3)]\n",
        "  timezone += [stamp[-3:]]\n",
        "  weekday += [int(datetime[-1].weekday())]\n",
        "\n",
        "appname.reverse()\n",
        "of24h.reverse()\n",
        "dd.reverse()\n",
        "mm.reverse()\n",
        "yy.reverse()\n",
        "timezone.reverse()\n",
        "datetime.reverse()\n",
        "\n",
        "data = pd.DataFrame(list(zip(appname,of24h,dd,mm,yy,timezone,weekday,datetime)),columns = ['App','of24h','Day','Month','Year','TimeZone','Weekday','TimeStamp'])"
      ],
      "execution_count": null,
      "outputs": []
    },
    {
      "cell_type": "code",
      "metadata": {
        "id": "-FqWYWtyWkLS",
        "cellView": "form"
      },
      "source": [
        "#@title Run to see few entries of the dataframe\n",
        "data"
      ],
      "execution_count": null,
      "outputs": []
    },
    {
      "cell_type": "markdown",
      "metadata": {
        "id": "1OaQtouU6Erw"
      },
      "source": [
        "```\n",
        "# Can you think of a better way to store the data? Do you see any issues with the current dataframe structure?\n",
        "```\n",
        "\n",
        "\n",
        "---\n",
        "\n"
      ]
    },
    {
      "cell_type": "markdown",
      "metadata": {
        "id": "ev8oEdCBME8w"
      },
      "source": [
        "\n",
        "\n",
        "---\n",
        "\n",
        "\n",
        "# What data do we have here?\n",
        "\n",
        "Running the cell below produces a raster plot for a single month of your choice. A raster plot is used widely for neural spiking data or any sort of repetitive binary data across time. A tick represents an event and blank space shows absence of event. Accordingly, it also means that two events cannot simultaneously occur. (two apps can be opened in succession, but not at the same time). It is also called an event plot in the python matplotlib pyplot library.\n",
        "\n",
        "\n",
        "```\n",
        "Look at the plot below for any month of your choosing, and see what your data looks like.\n",
        "\n",
        "Note that each vertical stripe (a tick) is the event of an app being opened.\n",
        "```\n",
        "---\n",
        "\n"
      ]
    },
    {
      "cell_type": "code",
      "metadata": {
        "id": "Hjm_5fADR9m8",
        "cellView": "form"
      },
      "source": [
        "#@title Month Raster Plotter\n",
        "\n",
        "Year =  2020 #@param {type:\"number\"}\n",
        "Month = \"July\" #@param [\"January\", \"February\", \"March\", \"April\", \"May\", \"June\", \"July\", \"August\", \"September\", \"October\", \"November\", \"December\"]\n",
        "\n",
        "\n",
        "with_XKCD = True #@param {type:\"boolean\"}\n",
        " #@markdown I love the xkcd comics and their style being applied to my plots, but your professor may not. If you have to submit the output, I suggest you untick xkcd before doing so.\n",
        "\n",
        "monthnames  = {\"January\":1, \"February\":2, \"March\":3, \"April\":4, \"May\":5, \"June\":6, \"July\":7, \"August\":8, \"September\":9 ,\"October\":10, \"November\":11, \"December\":12}\n",
        "\n",
        "def mmprepdata(dataframe, ynum, mnum):\n",
        "  \n",
        "    frame = dataframe.query(('Year == '+str(ynum)+' and Month == '+str(mnum)))\n",
        "    \n",
        "    days = monthrange(ynum,mnum)[1]\n",
        "    plotdata = np.empty(days, dtype = object)\n",
        "    for d in range(days):\n",
        "      daydata = frame.query(('Day == '+str(d+1)))\n",
        "      plotdata[-d-1] = daydata.of24h.to_numpy()\n",
        "\n",
        "    return plotdata\n",
        "\n",
        "def mmraster(dataframe,year,month,xkcd):\n",
        "  \n",
        "  mnum = monthnames[Month]\n",
        "  plotdata = mmprepdata(dataframe,year,mnum)\n",
        "\n",
        "  if xkcd == True:\n",
        "\n",
        "    with plt.xkcd():\n",
        "      plt.eventplot(plotdata[:], color = \"0.2\")\n",
        "      plt.xlabel(\"Time of Day\")\n",
        "      plt.title((str(month)+\" \"+str(year)))\n",
        "      plt.xlim(-1,25)\n",
        "      plt.yticks([])\n",
        "      plt.gca().xaxis.set_major_locator(ticker.MultipleLocator(6))\n",
        "    \n",
        "  else:\n",
        "\n",
        "    plt.eventplot(plotdata[:], color = \"0.2\")\n",
        "    plt.xlabel(\"Time of Day\")\n",
        "    plt.title((str(month)+\" \"+str(year)))\n",
        "    plt.xlim(-1,25)\n",
        "    plt.yticks([])\n",
        "    plt.gca().xaxis.set_major_locator(ticker.MultipleLocator(6))\n",
        "\n",
        "mmraster(data,Year,Month,with_XKCD)"
      ],
      "execution_count": null,
      "outputs": []
    },
    {
      "cell_type": "markdown",
      "metadata": {
        "id": "xTbXsU_X5g_h"
      },
      "source": [
        "```\n",
        "#what do you see? Are there any any noticable patterns?\n",
        "```\n",
        "\n",
        "\n",
        "---\n",
        "\n"
      ]
    },
    {
      "cell_type": "markdown",
      "metadata": {
        "id": "lNTI4OfE67c1"
      },
      "source": [
        "\n",
        "\n",
        "---\n",
        "\n",
        "\n",
        "# Cleaning Data (and issues with data collection)\n",
        "Okay first things first, Now that you've seen your data there are some background checks to be done. Take a good hard look at the plot(s).\n",
        "\n",
        "\n",
        "```\n",
        "> Are the ticks at the correct time?\n",
        "> Is it sparse or too dense? \n",
        "> Is there data on the plot at all? \n",
        "> Is it only restricted to the left-half (first 12 hours of the plot)?\n",
        "```\n",
        "\n",
        "\n",
        "These issues shouldn't be there, and are generated by the way we source or read the data. No activity means your records don't exist (or my code did not work as intended). Sparse activity might be from low usage on your end or, your phone only partially logging data. Chunks of missing data when you know your phone was on could be caused by logging issues as well. These are all part of the data collection process, and generally, unless you can repeat the experiment, you just have to deal with the hand you're dealt. \n",
        "\n",
        "\n",
        "Dr. Leise faced a similar issue with data from [polar bears](https://journals.sagepub.com/doi/abs/10.1177/0748730419900877?journalCode=jbra), \n",
        "and of course you can't go and ask a polar bear to fill in some of the missing data.  \n",
        "So she used innovative mathematical ways I barely understand to make cool inferences from the data nonetheless. \n",
        "[Read more here!](https://doi.org/10.1177/0748730417709105)\n",
        "\n",
        "Some errors may also be caused directly by the way you read the data and can be fixed. \n",
        "If all your data is in the first 12 hours in the 24 hour day, or exists and shows a blank plot, \n",
        "I messed up big time, and you should let me know!\n",
        "\n",
        "```\n",
        "Let's just hope these issues did not occur with your data. \n",
        "\n",
        "Note: I've been seeing issues with my own takeouts, \n",
        "data from more than 1 year ago disappearing and so on. \n",
        "It's rather vague.\n",
        "\n",
        "Update: The notebook now looks one year into the past from last full month specified\n",
        "Missing Data (few days here and there) should not bother you on most part\n",
        "```\n",
        "\n",
        "---\n",
        "\n",
        "\n",
        "There's one thing though. In this particular case, we want to look at *your* usage of the phone and yours alone. From the data I've seen so far, most phones only record events from when *you* opened an app. But some phones have these pesky little events marked at times when their users were asleep or busy.\n",
        "```\n",
        "So look again, at times of the day you're sure you were asleep or definitely not using your phone. \n",
        "\n",
        "If you see pesky ticks there:\n",
        ">   Clean your data using the cells below!\n",
        "\n",
        "If not:\n",
        ">   Woohoo, skip ahead to Visualization!\n",
        "```\n",
        "Whichever path you take, take a minute to realise that this cleaning of the data will change your outcomes. For us, as we are interested in seeing *your* activity, this is noise, but to someone studying phone activity as a whole, this is vital information! \n",
        "\n",
        "What counts as noise and error is often determined by your question, and any such decisions that you make should be properly reported when you publish/share your work!\n",
        "\n",
        "\n",
        "---\n",
        "\n"
      ]
    },
    {
      "cell_type": "markdown",
      "metadata": {
        "id": "U-dnP4kaSY9t"
      },
      "source": [
        "\n",
        "```\n",
        "Steps to clean \n",
        "\n",
        "> Run the first cell to plot a month you remember clearly.\n",
        "> Run the second cell to plot for a day where you think you see suspicious activity.\n",
        "> Note the time window within which it was observed and enter that data in the next cell\n",
        "> Look at the entries listed, and identify which apps are causing these issues\n",
        "> COPY the appname into the next cell and run it to scrub every instance of it clean from the dataframe.\n",
        "> Raster plot the month again and ensure your data is clean!\n",
        "\n",
        "> If not, repeat above sequence till data is clean!\n",
        "```\n",
        "Apps like weather and some other regularly updating applications are more likely to be the culprit."
      ]
    },
    {
      "cell_type": "code",
      "metadata": {
        "cellView": "form",
        "id": "L0-RO8aZbCfa"
      },
      "source": [
        "#@title Raster plot a month you remember well.\n",
        "\n",
        "Year =  2020 #@param {type:\"number\"}\n",
        "Month = \"July\" #@param [\"January\", \"February\", \"March\", \"April\", \"May\", \"June\", \"July\", \"August\", \"September\", \"October\", \"November\", \"December\"]\n",
        "mnum = monthnames[Month]\n",
        "\n",
        "with_XKCD = True #@param {type:\"boolean\"}\n",
        " #@markdown I love the xkcd comics and their style being applied to my plots, but your professor may not. If you have to submit the output, I suggest you untick xkcd before doing so.\n",
        "\n",
        "monthnames  = {\"January\":1, \"February\":2, \"March\":3, \"April\":4, \"May\":5, \"June\":6, \"July\":7, \"August\":8, \"September\":9 ,\"October\":10, \"November\":11, \"December\":12}\n",
        "\n",
        "def mmprepdata(dataframe, ynum, mnum):\n",
        "  \n",
        "    frame = dataframe.query(('Year == '+str(ynum)+' and Month == '+str(mnum)))\n",
        "    \n",
        "    days = monthrange(ynum,mnum)[1]\n",
        "    plotdata = np.empty(days, dtype = object)\n",
        "    for d in range(days):\n",
        "      daydata = frame.query(('Day == '+str(d+1)))\n",
        "      plotdata[-d-1] = daydata.of24h.to_numpy()\n",
        "\n",
        "    return plotdata\n",
        "\n",
        "def mmraster(dataframe,year,month,xkcd):\n",
        "  \n",
        "  mnum = monthnames[Month]\n",
        "  plotdata = mmprepdata(dataframe,year,mnum)\n",
        "\n",
        "  if xkcd == True:\n",
        "\n",
        "    with plt.xkcd():\n",
        "      plt.eventplot(plotdata[:], color = \"0.2\")\n",
        "      plt.xlabel(\"Time of Day\")\n",
        "      plt.title((str(month)+\" \"+str(year)))\n",
        "      plt.xlim(-1,25)\n",
        "      plt.yticks([])\n",
        "      plt.gca().xaxis.set_major_locator(ticker.MultipleLocator(6))\n",
        "    \n",
        "  else:\n",
        "\n",
        "    plt.eventplot(plotdata[:], color = \"0.2\")\n",
        "    plt.xlabel(\"Time of Day\")\n",
        "    plt.title((str(month)+\" \"+str(year)))\n",
        "    plt.xlim(-1,25)\n",
        "    plt.yticks([])\n",
        "    plt.gca().xaxis.set_major_locator(ticker.MultipleLocator(6))\n",
        "\n",
        "mmraster(data,Year,Month,with_XKCD)"
      ],
      "execution_count": null,
      "outputs": []
    },
    {
      "cell_type": "code",
      "metadata": {
        "id": "GHG6QmV7UeF9",
        "cellView": "form"
      },
      "source": [
        "#@title Raster plot a single day with suspicious activity\n",
        "\n",
        "#Year  =   2020#@param {type:\"integer\"}\n",
        "#Month = \"July\" #@param [\"January\", \"February\", \"March\", \"April\", \"May\", \"June\", \"July\", \"August\", \"September\", \"October\", \"November\", \"December\"]\n",
        "Day   =  31#@param {type:\"integer\"}\n",
        "xkcd = True #@param {type:\"boolean\"}\n",
        "monthnames  = {\"January\":1, \"February\":2, \"March\":3, \"April\":4, \"May\":5, \"June\":6, \"July\":7, \"August\":8, \"September\":9 ,\"October\":10, \"November\":11, \"December\":12}\n",
        "\n",
        "def dayprepdata(dataframe, ynum, mnum,dnum):\n",
        "  \n",
        "    frame = dataframe.query(('Year == '+str(ynum)+' and Month == '+str(mnum)+' and Day == '+str(dnum)))\n",
        "    plotdata = frame.of24h.to_numpy()\n",
        "    \n",
        "    return plotdata\n",
        "\n",
        "def dayraster(dataframe,year,month,day,xkcd):\n",
        "  \n",
        "  mnum = monthnames[month]\n",
        "  plotdata = dayprepdata(dataframe,year,mnum,day)\n",
        "\n",
        "  if xkcd == True:\n",
        "\n",
        "    with plt.xkcd():\n",
        "      plt.eventplot(plotdata[:], color = \"0.2\")\n",
        "      plt.xlabel(\"Time of Day\")\n",
        "      plt.title((str(day)+\" \"+str(month)+\" \"+str(year)))\n",
        "      plt.xlim(-1,25)\n",
        "      plt.yticks([])\n",
        "      plt.gca().set_aspect(1)\n",
        "      plt.gca().xaxis.set_major_locator(ticker.MultipleLocator(6))\n",
        "\n",
        "  else:\n",
        "\n",
        "    plt.eventplot(plotdata[:], color = \"0.2\")\n",
        "    plt.xlabel(\"Time of Day\")\n",
        "    plt.title((str(day)+\" \"+str(month)+\" \"+str(ynum)))\n",
        "    plt.xlim(-1,25)\n",
        "    plt.yticks([])\n",
        "    plt.gca().xaxis.set_major_locator(ticker.MultipleLocator(6))\n",
        "\n",
        "dayraster(data,Year,Month,Day,xkcd)"
      ],
      "execution_count": null,
      "outputs": []
    },
    {
      "cell_type": "code",
      "metadata": {
        "id": "zer8WY5OSMcz",
        "cellView": "form"
      },
      "source": [
        "#@title Find the names of apps active in the odd hours you've selected\n",
        "\n",
        "#@markdown (same date as previous cell)\n",
        "\n",
        "start_time =  3#@param {type:\"integer\"}\n",
        "end_time = 5 #@param {type:\"integer\"}\n",
        "\n",
        "#@markdown Integers only! (time in hours, between 0 and 24)\n",
        "oddtime  = data.query(('Year == '+str(Year)+' and Month == '+str(mnum)+' and Day == '+str(Day)+' and of24h >= '+str(start_time)+' and of24h <= '+str(end_time)))\n",
        "Unique = oddtime.App.unique()\n",
        "print(\"Supicious apps: \",Unique)"
      ],
      "execution_count": null,
      "outputs": []
    },
    {
      "cell_type": "code",
      "metadata": {
        "id": "OrK1vnFqW47A",
        "cellView": "form"
      },
      "source": [
        "#@title Cleaning Dataframe\n",
        "\n",
        "#@markdown Paste in one App name at a time and run to completely remove all instances of it from the dataframe.\n",
        "\n",
        "Appname = \"\" #@param {type:\"string\"}\n",
        "\n",
        "if Appname != \"\":\n",
        "  data = data.query((\"App != \"+'\"'+str(Appname)+'\"'))\n",
        "  print(\"All instances of that app should be gone now!\")\n",
        "else:\n",
        "  print(\"enter an appname!\")\n",
        "\n",
        "#@markdown Be careful with this cell. You cannot revert the changes caused. If you make a mistake, you must run the \"Build a Dataframe\" cell again and start over.\n",
        "# Unique = data.App.unique()\n",
        "# print(Unique)"
      ],
      "execution_count": null,
      "outputs": []
    },
    {
      "cell_type": "code",
      "metadata": {
        "cellView": "form",
        "id": "U6CPmHdFceOG"
      },
      "source": [
        "#@title Verify if the suspicious event was removed\n",
        "\n",
        "#Year  =   2020#@param {type:\"integer\"}\n",
        "#Month = \"July\" #@param [\"January\", \"February\", \"March\", \"April\", \"May\", \"June\", \"July\", \"August\", \"September\", \"October\", \"November\", \"December\"]\n",
        "# Day   =  31#@param {type:\"integer\"}\n",
        "xkcd = True #@param {type:\"boolean\"}\n",
        "monthnames  = {\"January\":1, \"February\":2, \"March\":3, \"April\":4, \"May\":5, \"June\":6, \"July\":7, \"August\":8, \"September\":9 ,\"October\":10, \"November\":11, \"December\":12}\n",
        "\n",
        "def dayprepdata(dataframe, ynum, mnum,dnum):\n",
        "  \n",
        "    frame = dataframe.query(('Year == '+str(ynum)+' and Month == '+str(mnum)+' and Day == '+str(dnum)))\n",
        "    plotdata = frame.of24h.to_numpy()\n",
        "    \n",
        "    return plotdata\n",
        "\n",
        "def dayraster(dataframe,year,month,day,xkcd):\n",
        "  \n",
        "  mnum = monthnames[month]\n",
        "  plotdata = dayprepdata(dataframe,year,mnum,day)\n",
        "\n",
        "  if xkcd == True:\n",
        "\n",
        "    with plt.xkcd():\n",
        "      plt.eventplot(plotdata[:], color = \"0.2\")\n",
        "      plt.xlabel(\"Time of Day\")\n",
        "      plt.title((str(day)+\" \"+str(month)+\" \"+str(year)))\n",
        "      plt.xlim(-1,25)\n",
        "      plt.yticks([])\n",
        "      plt.gca().set_aspect(1)\n",
        "      plt.gca().xaxis.set_major_locator(ticker.MultipleLocator(6))\n",
        "\n",
        "  else:\n",
        "\n",
        "    plt.eventplot(plotdata[:], color = \"0.2\")\n",
        "    plt.xlabel(\"Time of Day\")\n",
        "    plt.title((str(day)+\" \"+str(month)+\" \"+str(ynum)))\n",
        "    plt.xlim(-1,25)\n",
        "    plt.yticks([])\n",
        "    plt.gca().set_aspect(1)\n",
        "    plt.gca().xaxis.set_major_locator(ticker.MultipleLocator(6))\n",
        "\n",
        "dayraster(data,Year,Month,Day,xkcd)"
      ],
      "execution_count": null,
      "outputs": []
    },
    {
      "cell_type": "markdown",
      "metadata": {
        "id": "1r5uYcvM_coL"
      },
      "source": [
        "\n",
        "\n",
        "```\n",
        "Done cleaning? Continue to Visualization!\n",
        "```\n",
        "\n",
        "\n",
        "---\n",
        "\n",
        "\n"
      ]
    },
    {
      "cell_type": "markdown",
      "metadata": {
        "id": "X3ekvXfnKTml"
      },
      "source": [
        "\n",
        "\n",
        "---\n",
        "\n",
        "# Visualization!\n",
        "\n",
        "\n",
        "Obtaining and cleaning data is only the beginning. The real fun starts with making sense of the data. \n",
        "\n",
        "However, reading each entry does us no good. Here comes the power of visualization!\n",
        "\n",
        "> Note: If your plots are too small and blurry, scroll down to the end and there's a figure resolution controller cell.\n",
        "\n",
        "```\n",
        "Run the following cells to generate a few visuals from your data. \n",
        "\n",
        "Each visual tells a different story and aims to communicate a different facet of your data.\n",
        "\n",
        "# See what they have to say about you! Note it down!\n",
        "```\n",
        "\n",
        "This is by no means an exhaustive list of possible visualisation but only a few commonly used ones that seem to work with this sort of data. \n",
        "\n",
        "If you're feeling adventurous, try some other ones you know of! Share them with me so I can add them too!\n"
      ]
    },
    {
      "cell_type": "code",
      "metadata": {
        "cellView": "form",
        "id": "vz4VE8n-S72u"
      },
      "source": [
        "#@title Of course, you could just start by generating raster plots for the whole year. Run this to see *your* year! (so far)\n",
        "\n",
        "year = 2020 #@param {type:\"number\"}\n",
        "\n",
        "xkcd = True #@param {type:\"boolean\"}\n",
        "rasterdata = {}\n",
        "\n",
        "monthnames  = {\"January\":1, \"February\":2, \"March\":3, \"April\":4, \"May\":5, \"June\":6, \"July\":7, \"August\":8, \"September\":9 ,\"October\":10, \"November\":11, \"December\":12}\n",
        "\n",
        "def mmprepdata(dataframe, ynum, mnum):\n",
        "  \n",
        "    frame = dataframe.query(('Year == '+str(ynum)+' and Month == '+str(mnum)))\n",
        "    \n",
        "    days = monthrange(ynum,mnum)[1]\n",
        "    plotdata = np.empty(days, dtype = object)\n",
        "    for d in range(days):\n",
        "      daydata = frame.query(('Day == '+str(d+1)))\n",
        "      plotdata[-d-1] = daydata.of24h.to_numpy()\n",
        "\n",
        "    return plotdata\n",
        "\n",
        "for month in monthnames.keys():\n",
        "  mnum = monthnames[month]\n",
        "  rasterdata[month] = mmprepdata(data,year,mnum)\n",
        "\n",
        "if xkcd == True:\n",
        "  with plt.xkcd():\n",
        "    yrrast, plots = plt.subplots(2, 6)\n",
        "    yrrast.suptitle(('Your '+str(year)+' in Phone App Activity Rasters'))\n",
        "    plt.gcf().set_size_inches(20,5)\n",
        "    for i in range(2):\n",
        "      for j in range(6):\n",
        "        plots[i,j].eventplot(rasterdata[list(monthnames.keys())[(i*6)+j]], color = '0.2')\n",
        "        plots[i,j].set_title((list(monthnames.keys())[(i*6)+j]))\n",
        "        plots[i,j].set_xlim(-1,25)\n",
        "        plots[i,j].set_yticks([])\n",
        "        plots[i,j].xaxis.set_major_locator(ticker.MultipleLocator(6))\n",
        "        plots[i,j].set_aspect(0.5)\n",
        "else:\n",
        "\n",
        "      yrrast, plots = plt.subplots(2, 6)\n",
        "      yrrast.suptitle(('Your '+str(year)+' in Phone App Activity Rasters'))\n",
        "      plt.gcf().set_size_inches(20,5)\n",
        "      for i in range(2):\n",
        "        for j in range(6):\n",
        "          plots[i,j].eventplot(rasterdata[list(monthnames.keys())[(i*6)+j]], color = '0.2')\n",
        "          plots[i,j].set_title((list(monthnames.keys())[(i*6)+j]))\n",
        "          plots[i,j].set_xlim(-1,25)\n",
        "          plots[i,j].set_yticks([])\n",
        "          plots[i,j].xaxis.set_major_locator(ticker.MultipleLocator(6))\n",
        "          plots[i,j].set_aspect(0.5)"
      ],
      "execution_count": null,
      "outputs": []
    },
    {
      "cell_type": "markdown",
      "metadata": {
        "id": "Ssfj5Oy0bXHc"
      },
      "source": [
        "\n",
        "\n",
        "```\n",
        "There's lots to see here for the trained eye! \n",
        "# Do you see any patterns? \n",
        "# Months where you were more regular? (Onset of Activity was around the same time?)\n",
        "# Months when offset of activity was regular?\n",
        "# Are you rhythmic or arrhythmic?\n",
        "# Do you see times when you got a little delayed or earlier each day? (You may have been freerunning!)\n",
        "# Are there changes across seasons/academic schedules?\n",
        "\n",
        "```\n",
        "rasters are a great way of seeing the entirety of the data, but it is often hard to note everything from it. \n",
        "\n",
        "\n"
      ]
    },
    {
      "cell_type": "code",
      "metadata": {
        "id": "kzYEpZGLSBhb",
        "cellView": "form"
      },
      "source": [
        "#@title Heatmaps!\n",
        "year = 2020 #@param {type:\"number\"}\n",
        "\n",
        "xkcd = True #@param {type:\"boolean\"}\n",
        "\n",
        "hmdata = {}\n",
        "\n",
        "for month in rasterdata.keys():\n",
        "  mdata = rasterdata[str(month)]\n",
        "  hmdata[str(month)] = np.empty((mdata.shape[0],24))\n",
        "  for i in range(mdata.shape[0]):\n",
        "    for j in range(24):\n",
        "      hmdata[str(month)][-i-1,j] = np.sum(mdata[i]<j+1)-np.sum(mdata[i]<j)\n",
        "\n",
        "\n",
        "if xkcd == True:\n",
        "  with plt.xkcd():\n",
        "    yrrast, plots = plt.subplots(2, 6)\n",
        "    yrrast.suptitle(('Your '+str(year)+' in Phone App Activity Heatmaps'))\n",
        "    plt.gcf().set_size_inches(20,5)\n",
        "    for i in range(2):\n",
        "      for j in range(6):\n",
        "         sns.heatmap(hmdata[list(monthnames.keys())[(i*6)+j]],cmap=\"Spectral\",xticklabels=False,yticklabels=False,ax=plots[i,j])\n",
        "         plots[i,j].set_title((list(monthnames.keys())[(i*6)+j]))\n",
        "\n",
        "else:\n",
        "  yrrast, plots = plt.subplots(2, 6)\n",
        "  yrrast.suptitle(('Your '+str(year)+' in Phone App Activity'))\n",
        "  plt.gcf().set_size_inches(20,5)\n",
        "  for i in range(2):\n",
        "    for j in range(6):\n",
        "      sns.heatmap(hmdata[list(monthnames.keys())[(i*6)+j]],cmap=\"Spectral\",xticklabels=False,yticklabels=False,ax=plots[i,j])\n",
        "      plots[i,j].set_title((list(monthnames.keys())[(i*6)+j]))\n"
      ],
      "execution_count": null,
      "outputs": []
    },
    {
      "cell_type": "markdown",
      "metadata": {
        "id": "X2FYz5QPswU8"
      },
      "source": [
        "```\n",
        "Heatmaps are great at showing changes in activity level over time.\n",
        "They are not as specific in their representation, for example, this plot is binned hour wise.\n",
        "\n",
        "# What do you see in this plot that is more clear than in rasters?\n",
        "# What aspect of the rasters were lost in these plots?\n",
        "```"
      ]
    },
    {
      "cell_type": "code",
      "metadata": {
        "cellView": "form",
        "id": "G8uCU7yr_88A"
      },
      "source": [
        "#@title Actogram (Double plotted!) #To be done"
      ],
      "execution_count": null,
      "outputs": []
    },
    {
      "cell_type": "code",
      "metadata": {
        "id": "CtTWSMUUAHyS",
        "cellView": "form"
      },
      "source": [
        "#@title Average counts by day of week! #To be done"
      ],
      "execution_count": null,
      "outputs": []
    },
    {
      "cell_type": "code",
      "metadata": {
        "cellView": "form",
        "id": "mkL81c4p_9IA"
      },
      "source": [
        "#@title Circular Heatmaps! #To be done"
      ],
      "execution_count": null,
      "outputs": []
    },
    {
      "cell_type": "markdown",
      "metadata": {
        "id": "nl543N-OhsEm"
      },
      "source": [
        "```\n",
        "# what did you see in these plots?\n",
        "# When averaged across days, was there a trend emerging? \n",
        "# Are there certain hours you're always away from your phone?\n",
        "# Do you think it might be a good proxy for your sleep time?\n",
        "```\n",
        "\n",
        "\n",
        "---\n",
        "\n"
      ]
    },
    {
      "cell_type": "markdown",
      "metadata": {
        "id": "t7B10bbeNMB6"
      },
      "source": [
        "\n",
        "\n",
        "---\n",
        "\n",
        "# Predicting sleep!\n",
        "\n",
        "Phone app activity may not be a good proxy for sleep for *everyone*. However, I know for certain that I check my phone before I go to sleep, the moment I wake up and at times when I wake up in middle the night, I definitely go through my notifications. It's clearly evident in my data. \n",
        "It stands to reason that if I haven't checked my phone in a while, I'm probably asleep. \n",
        "\n",
        "This may not hold true for you at all, but we're going to try making a reasonable estimate, and you can be the judge of how well it fits for you!\n",
        "\n",
        "To accurately predict sleep from the data, we could consider LOTS of factors. Maybe we should only consider night sleep (between hours 10PM and 10AM). Maybe we should consider local sunrise, wake up times, etc.\n",
        "\n",
        ">*They're all reasonable means of estimating sleep.*\n",
        ">\n",
        ">BUT let's consider a different approach here.\n",
        ">\n",
        ">Let's assume that humans have two states: awake and asleep. \n",
        "\n",
        "They're mutually exclusive events and both are required, although the time devoted to each state may be different. Most humans sleep only about 8 hours a day and are awake the rest.\n",
        "\n",
        "> We are limited by the data we have: Events of apps being opened.\n",
        "\n",
        "From this data, we need a general method to predict this sleep phase and an awake phase. and remember, to complicate matters further, an app being opened does not necessarily mean you're fully awake (shutting off an alarm, cutting a call, etc.) *and* **not** opening an app does not mean you are asleep (just away from your phone or even using a single app on your phone for a long time!)\n",
        "\n",
        "```\n",
        "SO here's what we *can* do. \n",
        "\n",
        "> We take tiny steps through time.\n",
        "> We can assume the baseline state is sleep.\n",
        "> We collect evidence towards the fact that we're no longer sleeping (apps being opened)\n",
        "> When we have sufficient evidence, we make the jump and say we're asleep\n",
        "> When we encounter a time when the evidence is no longer sufficient, we return to the baseline (sleep)\n",
        "```\n",
        "This method of modelling a system where we assume unobservable (*hidden*) states that affect the output that we are collecting, are called Hidden Markov Models (HMMs).[Learn more here!](https://youtu.be/ceQXN0OUaFo)\n",
        "\n",
        "However, this is not remotely a complete exploration of the model, but is only loosely used here to predict which of the two latent states are being observed from the data. I'm not an expert on the topic and was rather recently introduced to it myself, and I may be innacurate trying to explain it, so go online or talk to your professor to know more!\n",
        "\n",
        ">I'll try explaining the method I'm using here though:\n",
        "\n",
        "Let's look at just a day's worth of data. \n",
        "\n",
        "![image](https://user-images.githubusercontent.com/68754864/98016738-5b0a7500-1e24-11eb-85df-425df1f8537d.png)\n",
        "\n",
        "This is my 31st of July, 2020. I know I was asleep between 3AM and 8AM.\n",
        "\n",
        "> So what do we want to ensure? \n",
        "\n",
        "* The apps being opened around 6AM are probably alarms I did not wake up to. \n",
        "\n",
        "* There are gaps at other times of the day are not sleep. \n",
        "\n",
        "This gives us two parameters:\n",
        "\n",
        "1. threshold number of events which infer \"awake\" (n_awake) (integers)\n",
        "2. Delay period between inactivity and sleep. (delay) (in hours, float)\n",
        "\n",
        "and a third hidden one that we need:\n",
        "\n",
        "3. (Hidden) Threshold of awake probability (threshold, p_awake, float)\n",
        "\n",
        "\n",
        "\n",
        "So here's what the code does:\n",
        "```\n",
        "> It goes through the 24 hours in increments of 0.001 (3.6 seconds). \n",
        "> It has a internal probability for awake (p_awake), which changes based on evidence.\n",
        "> When it encounters an app being opened, it increases p_awake by (1/n).\n",
        "> When p_awake is > 0, it slowly brings it down to 0 over the delay phase.\n",
        "> For each time step it throws out either 1 (awake) or 0 (asleep, baseline).\n",
        "> Awake is determined only if p_awake is greater than set threshold.\n",
        "```\n",
        "The threhold is required as n_awake app opening events will not occur together(they are discrete events) therefore a value of 1 will never be achieved, that would be an issue since multiple apps opened within a period of time should most definitely account for \"awake\". \n",
        "\n",
        "It would be ideal to have some sort of ground truth sleep data to compare it with but since we're sticking to just the data here, we'll only try fine tuning to a point we feel it is reasonable rather than comparing to the ground truth.\n",
        "\n",
        "```\n",
        "Steps:\n",
        "\n",
        "> Pick a day from a month that you remember fairly well, and can tell when you might have been sleeping.\n",
        "> Fine tune the parameters to improve the prediction till it roughly matches your estimate.\n",
        "> Run the next cell to see how these parameters hold against a whole year of data.\n",
        "```\n",
        "\n",
        "\n",
        "\n"
      ]
    },
    {
      "cell_type": "code",
      "metadata": {
        "id": "SLCLVHPmLYxV",
        "cellView": "form"
      },
      "source": [
        "#@title Define variables\n",
        "#@markdown Number of events required to infer wake state:\n",
        "n_awake = 3 #@param {type:\"slider\", min:1, max:10, step:1}\n",
        "#@markdown Amount of time delay to return for 1 app\n",
        "delay = 0.25 #@param {type:\"slider\", min:0, max:1, step:0.05}\n",
        "#@markdown Threhold to infer awake state from p_awake\n",
        "threshold = 0.8 #@param {type:\"slider\", min:0, max:1, step:0.1}"
      ],
      "execution_count": null,
      "outputs": []
    },
    {
      "cell_type": "code",
      "metadata": {
        "cellView": "form",
        "id": "b2S77zwqJv-F"
      },
      "source": [
        "#@title Predicting Sleep! (for a day)\n",
        "\n",
        "Year  =   2020#@param {type:\"integer\"}\n",
        "Month = \"July\" #@param [\"January\", \"February\", \"March\", \"April\", \"May\", \"June\", \"July\", \"August\", \"September\", \"October\", \"November\", \"December\"]\n",
        "Day   =  31#@param {type:\"integer\"}\n",
        "xkcd = True #@param {type:\"boolean\"}\n",
        "monthnames  = {\"January\":1, \"February\":2, \"March\":3, \"April\":4, \"May\":5, \"June\":6, \"July\":7, \"August\":8, \"September\":9 ,\"October\":10, \"November\":11, \"December\":12}\n",
        "\n",
        "\n",
        "\n",
        "def dayprepdata(dataframe, ynum, mnum,dnum):\n",
        "  \n",
        "    frame = dataframe.query(('Year == '+str(ynum)+' and Month == '+str(mnum)+' and Day == '+str(dnum)))\n",
        "    plotdata = frame.of24h.to_numpy()\n",
        "    \n",
        "    return plotdata\n",
        "\n",
        "def dayraster(dataframe,year,month,day,xkcd):\n",
        "  \n",
        "  mnum = monthnames[month]\n",
        "  plotdata = dayprepdata(dataframe,year,mnum,day)\n",
        "\n",
        "  if xkcd == True:\n",
        "\n",
        "    with plt.xkcd():\n",
        "      plt.eventplot(plotdata[:], color = \"0.2\")\n",
        "      plt.xlabel(\"Time of Day\")\n",
        "      plt.title((str(day)+\" \"+str(month)+\" \"+str(year)))\n",
        "      plt.xlim(-1,25)\n",
        "      plt.yticks([])\n",
        "      plt.gca().set_aspect(1)\n",
        "      plt.gca().xaxis.set_major_locator(ticker.MultipleLocator(6))\n",
        "\n",
        "  else:\n",
        "\n",
        "    plt.eventplot(plotdata[:], color = \"0.2\")\n",
        "    plt.xlabel(\"Time of Day\")\n",
        "    plt.title((str(day)+\" \"+str(month)+\" \"+str(ynum)))\n",
        "    plt.xlim(-1,25)\n",
        "    plt.yticks([])\n",
        "    plt.gca().xaxis.set_major_locator(ticker.MultipleLocator(6))\n",
        "\n",
        "dayraster(data,Year,Month,Day,xkcd)"
      ],
      "execution_count": null,
      "outputs": []
    },
    {
      "cell_type": "code",
      "metadata": {
        "id": "EAA72J1qSQ5p",
        "cellView": "form"
      },
      "source": [
        "#@title predicting sleep! (for a month)\n",
        "#@markdown pick a specific month and fine tune it!\n",
        "Year =  2020 #@param {type:\"number\"}\n",
        "Month = \"July\" #@param [\"January\", \"February\", \"March\", \"April\", \"May\", \"June\", \"July\", \"August\", \"September\", \"October\", \"November\", \"December\"]\n",
        "mnum = monthnames[Month]\n",
        "\n",
        "with_XKCD = True #@param {type:\"boolean\"}\n",
        "\n",
        "monthnames  = {\"January\":1, \"February\":2, \"March\":3, \"April\":4, \"May\":5, \"June\":6, \"July\":7, \"August\":8, \"September\":9 ,\"October\":10, \"November\":11, \"December\":12}\n",
        "\n",
        "def mmprepdata(dataframe, ynum, mnum):\n",
        "  \n",
        "    frame = dataframe.query(('Year == '+str(ynum)+' and Month == '+str(mnum)))\n",
        "    \n",
        "    days = monthrange(ynum,mnum)[1]\n",
        "    plotdata = np.empty(days, dtype = object)\n",
        "    for d in range(days):\n",
        "      daydata = frame.query(('Day == '+str(d+1)))\n",
        "      plotdata[-d-1] = daydata.of24h.to_numpy()\n",
        "\n",
        "    return plotdata\n",
        "\n",
        "def mmraster(dataframe,year,month,xkcd):\n",
        "  \n",
        "  mnum = monthnames[Month]\n",
        "  plotdata = mmprepdata(dataframe,year,mnum)\n",
        "\n",
        "  if xkcd == True:\n",
        "\n",
        "    with plt.xkcd():\n",
        "      plt.eventplot(plotdata[:], color = \"0.2\")\n",
        "      plt.xlabel(\"Time of Day\")\n",
        "      plt.title((str(month)+\" \"+str(year)))\n",
        "      plt.xlim(-1,25)\n",
        "      plt.yticks([])\n",
        "      plt.gca().xaxis.set_major_locator(ticker.MultipleLocator(6))\n",
        "    \n",
        "  else:\n",
        "\n",
        "    plt.eventplot(plotdata[:], color = \"0.2\")\n",
        "    plt.xlabel(\"Time of Day\")\n",
        "    plt.title((str(month)+\" \"+str(year)))\n",
        "    plt.xlim(-1,25)\n",
        "    plt.yticks([])\n",
        "    plt.gca().xaxis.set_major_locator(ticker.MultipleLocator(6))\n",
        "\n",
        "mmraster(data,Year,Month,with_XKCD)"
      ],
      "execution_count": null,
      "outputs": []
    },
    {
      "cell_type": "markdown",
      "metadata": {
        "id": "T8SYTDf3NnAw"
      },
      "source": [
        "\n",
        "\n",
        "---\n",
        "\n",
        "# Relation between weekday sleep loss and weekend excess sleep\n",
        "\n",
        "\n",
        "\n"
      ]
    },
    {
      "cell_type": "code",
      "metadata": {
        "id": "gw907-cfSWk3",
        "cellView": "form"
      },
      "source": [
        "#@title weekday-weekend relation # to be done"
      ],
      "execution_count": null,
      "outputs": []
    },
    {
      "cell_type": "code",
      "metadata": {
        "id": "bRqIULJVSbHN",
        "cellView": "form"
      },
      "source": [
        "#@title does this hold? validation of model # to be done"
      ],
      "execution_count": null,
      "outputs": []
    },
    {
      "cell_type": "markdown",
      "metadata": {
        "id": "ezR3Uj6oSiW3"
      },
      "source": [
        "\n",
        "\n",
        "---\n",
        "\n",
        "# End of the line!\n",
        "\n",
        "Take a print! Download your results!\n",
        "\n",
        "\n"
      ]
    },
    {
      "cell_type": "code",
      "metadata": {
        "id": "viD6kXYzZk-V",
        "cellView": "form"
      },
      "source": [
        "#@title figure resolution controller\n",
        "\n",
        "plot_dpi = 80 #@param {type:\"integer\"}\n",
        "#@markdown Set the above value to control how big the plots are. It will vary for each screen\n",
        "\n",
        "#@markdown Setting it to higher values may make plots very large on screen but are ideal for downloading it and using it elsewhere. A minimum of 300dpi is ideal for print, I prefer 600dpi.\n",
        "mpl.rcParams['figure.dpi'] = plot_dpi"
      ],
      "execution_count": null,
      "outputs": []
    },
    {
      "cell_type": "markdown",
      "metadata": {
        "id": "6KTe8QZ0Spin"
      },
      "source": [
        "\n",
        "\n",
        "---\n",
        "\n",
        "# Please consider sharing your data with us! \n",
        "\n"
      ]
    },
    {
      "cell_type": "code",
      "metadata": {
        "id": "mi5XyHlp_6Bp",
        "cellView": "form"
      },
      "source": [
        "#@title Privacy Filter ???\n",
        "#@markdown Removes app names for privacy when sharing data. All apps are renamed to \"app\" with exception of clock/alarm apps which are renamed to \"clock\"\n",
        "\n",
        "dataframe.loc[dataframe['App'].str.contains('clock', case=False), 'App'] = 'clock'\n",
        "dataframe.loc[dataframe['App'] != \"clock\", \"App\"] = \"app\"\n",
        "\n",
        "print(\"appnames have been removed, replaced with \"+str(dataframe.App.unique())+\"\\n\\n\")\n",
        "print(dataframe.head())"
      ],
      "execution_count": null,
      "outputs": []
    },
    {
      "cell_type": "markdown",
      "metadata": {
        "id": "DdcVLYrVcyfX"
      },
      "source": [
        "\n",
        "\n",
        "---\n",
        "\n",
        "# Clean Slate!\n",
        "\n",
        "\n",
        "\n"
      ]
    },
    {
      "cell_type": "code",
      "metadata": {
        "id": "El6hXH3kWeEk",
        "cellView": "form"
      },
      "source": [
        "#@markdown Deletes all files from colab for privacy.\n",
        "#@markdown\n",
        "#@markdown (Make sure to only run this **after** you've saved everything you need!)\n",
        "!rm *.*\n",
        "print(\"Done and Dusted!\")"
      ],
      "execution_count": null,
      "outputs": []
    },
    {
      "cell_type": "markdown",
      "metadata": {
        "id": "ODyRPuH2iWvb"
      },
      "source": [
        "\n",
        "\n",
        "---\n",
        "\n"
      ]
    }
  ]
}